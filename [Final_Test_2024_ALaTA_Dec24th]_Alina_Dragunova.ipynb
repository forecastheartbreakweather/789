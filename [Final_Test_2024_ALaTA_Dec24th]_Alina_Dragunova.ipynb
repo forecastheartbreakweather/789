{
  "cells": [
    {
      "cell_type": "markdown",
      "id": "8f868eb6",
      "metadata": {
        "id": "8f868eb6"
      },
      "source": [
        "# Final Test - Python\n",
        "\n",
        "First Name: **Alina**\n",
        "\n",
        "Last Name: **Dragunova**\n",
        "\n",
        "Group: **24ALATA**\n",
        "\n",
        "## The exam starts at 18:10 and finishes at 21:00 on December 24th.\n",
        "## Please after finishing your exam, send your solution to my HSE corporate email (msohrabi@hse.ru)\n",
        "\n",
        "**Note:** Plagiarism matters. Plagiarism means two or more students have the identical solutions for a task."
      ]
    },
    {
      "cell_type": "markdown",
      "id": "328bf1ff",
      "metadata": {
        "id": "328bf1ff"
      },
      "source": [
        "## Task 1  (3 point) - Dictionary\n",
        "\n",
        "Given a string, your program should return 3 seperate dictionaries calculating the following elements:\n",
        "\n",
        "1. 1st dictionary: a dictionary where keys are vowels, and values are frequencies of each vowels in the string, considering case insensitivity.\n",
        "\n",
        "2. 2nd dictionary: a dictionary where keys are consonants, and values are their frequencies, considering case insensitivity.\n",
        "\n",
        "3. 3rd dictionary: Construct a dictionary to count the occurrences of uppercase and lowercase letters separately."
      ]
    },
    {
      "cell_type": "code",
      "execution_count": null,
      "id": "b92379bd",
      "metadata": {
        "id": "b92379bd",
        "colab": {
          "base_uri": "https://localhost:8080/"
        },
        "outputId": "86fcb03d-d39f-49b1-c8e0-3034810ba357"
      },
      "outputs": [
        {
          "output_type": "stream",
          "name": "stdout",
          "text": [
            "Enter your string: I am solving a test\n",
            "{'a': 2, 'o': 1, 'i': 1, 'e': 1}\n",
            "{'I': 1, 'm': 1, 's': 2, 'l': 1, 'v': 1, 'n': 1, 'g': 1, 't': 2}\n",
            "{'upper case': 1, 'lower case': 14}\n"
          ]
        }
      ],
      "source": [
        "yourstring=input(\"Enter your string: \")\n",
        "loweryourstring=yourstring.lower()\n",
        "vowels='aeiou'\n",
        "vowelsdict={}\n",
        "consonantsdict={}\n",
        "casedict={'upper case': 0, 'lower case': 0}\n",
        "for character in yourstring:\n",
        "  if character.isalpha():\n",
        "    if character in vowels:\n",
        "      if character in vowelsdict:\n",
        "        vowelsdict[character] +=1\n",
        "      else:\n",
        "        vowelsdict[character] =1\n",
        "    else:\n",
        "      if character in consonantsdict:\n",
        "        consonantsdict[character] +=1\n",
        "      else:\n",
        "        consonantsdict[character] =1\n",
        "for character in yourstring:\n",
        "  if character.isalpha():\n",
        "    if character.isupper():\n",
        "      casedict['upper case'] +=1\n",
        "    else:\n",
        "      casedict['lower case'] +=1\n",
        "print(vowelsdict)\n",
        "print(consonantsdict)\n",
        "print(casedict)"
      ]
    },
    {
      "cell_type": "markdown",
      "id": "dee5f182",
      "metadata": {
        "id": "dee5f182"
      },
      "source": [
        "## Task 2  (1.25 point) - List\n",
        "\n",
        "Write a program to extract all sequences of given list where the sum of the elements is greater than a specified number.\n",
        "\n",
        "Example:\n",
        "```\n",
        "Input: List = [1, 2, 3, 4], Threshold = 5\n",
        "Output: [[2, 3, 4], [3, 4], [1, 2, 3, 4]]\n",
        "```"
      ]
    },
    {
      "cell_type": "code",
      "execution_count": null,
      "id": "d5ca101f",
      "metadata": {
        "id": "d5ca101f"
      },
      "outputs": [],
      "source": [
        "list1 = input(\"Enter your list: \")\n",
        "threshold = input(\"Enter your threshold: \")\n",
        "\n",
        "def sequences(list1, threshold):\n",
        "  newlist = []\n",
        "  length = len(list1)\n",
        "  for beginning in range(length):\n",
        "    count = 0\n",
        "  for end in range(beginning, length):\n",
        "    count += length[end]\n",
        "  if count > threshold:\n",
        "    newlist.append(list1[beginning:end+1])\n",
        "  return newlist\n",
        "print(newlist)"
      ]
    },
    {
      "cell_type": "markdown",
      "id": "4b3caade",
      "metadata": {
        "id": "4b3caade"
      },
      "source": [
        "## Task 3  (1 point) - List Compression\n",
        "\n",
        "Write a program that takes a list of strings and returns a new list with:\n",
        "\n",
        "Strings containing only alphabets, converted to lowercase.\n",
        "Strings with digits replaced by their numeric sum.\n",
        "\n",
        "Example:\n",
        "```\n",
        "Input: [\"HeLLo\", \"123\", \"abc45\", \"99\", \"4abc51\"]\n",
        "Output: [\"hello\", 6, \"abc9\", 18, \"abc10\"]\n",
        "```"
      ]
    },
    {
      "cell_type": "code",
      "source": [
        "strings=input(\"Enter your list of strings: \")\n",
        "def stringfunction(lst):\n",
        "  result=[]\n",
        "    for character in lst:\n",
        "      if character.isalpha():\n",
        "        result.append(character.lower())\n",
        "      else:\n",
        "        digits=[]\n",
        "        if character.isdigit():\n",
        "          digits.append(character)\n",
        "        for element in digits: ##not enough time to finish this code but the next assignments are completed"
      ],
      "metadata": {
        "id": "V_jZpIVhdN3D"
      },
      "id": "V_jZpIVhdN3D",
      "execution_count": null,
      "outputs": []
    },
    {
      "cell_type": "markdown",
      "id": "15a0cfeb",
      "metadata": {
        "id": "15a0cfeb"
      },
      "source": [
        "## Task 4  (1.25 point) - Function\n",
        "\n",
        "Write a function `math_operation(a, b, operation='add')` that performs a mathematical operation on two numbers.\n",
        "\n",
        "- Supported operations: `add`, `subtract`, `multiply`, and `divide`.\n",
        "- Prompt for unsupported operations \"**The operation is not supported by my calculator!**\".\n",
        "\n",
        "Example:\n",
        "```\n",
        "Input: math_operation(4, 2, 'multiply')\n",
        "Output: 8\n",
        "```"
      ]
    },
    {
      "cell_type": "code",
      "source": [
        "a=int(input(\"Enter your first number: \"))\n",
        "b=int(input(\"Enter your second number: \"))\n",
        "operation=input(\"Enter your desired operation: \").lower()\n",
        "def math_operation(a, b, operation='add'):\n",
        "  if operation == 'add':\n",
        "    return a+b\n",
        "  elif operation == 'subtract':\n",
        "    return a-b\n",
        "  elif operation == 'multiply':\n",
        "    return a*b\n",
        "  elif operation == 'divide':\n",
        "    if b == 0:\n",
        "      return \"Error: division by zero is impossible.\"\n",
        "    return a/b\n",
        "  else:\n",
        "    return \"The operation is not supported by my calculator!\"\n",
        "solve = math_operation(a, b, operation)\n",
        "print(solve)"
      ],
      "metadata": {
        "id": "ve_wwLxbncFh"
      },
      "id": "ve_wwLxbncFh",
      "execution_count": null,
      "outputs": []
    },
    {
      "cell_type": "markdown",
      "id": "73ffa794",
      "metadata": {
        "id": "73ffa794"
      },
      "source": [
        "## Task 5  (2 point) - Function\n",
        "\n",
        "Write a function `is_prime(n)` that returns `True` if `n` is a prime number and `False` otherwise.\n",
        "\n",
        "- Use `is_prime(n)` function inside the second function `list_primes(limit)` to generate a list of all prime numbers less than a given `limit`.\n",
        "\n",
        "Example:\n",
        "```\n",
        "Input: list_primes(10)\n",
        "Output: [2, 3, 5, 7]\n",
        "```\n",
        "\n",
        "Note: You can call `is_prime(n)` function in `if` condition for `list_primes(limit)`."
      ]
    },
    {
      "cell_type": "code",
      "source": [],
      "metadata": {
        "id": "CaUGTzFhwEVM"
      },
      "id": "CaUGTzFhwEVM",
      "execution_count": null,
      "outputs": []
    },
    {
      "cell_type": "markdown",
      "id": "eaa1c38a",
      "metadata": {
        "id": "eaa1c38a"
      },
      "source": [
        "## Task 6  (1.5 point) - Function/List/Tuple\n",
        "\n",
        "I'm working as a worker in a shop. Each item in this shop costs a positive integer (NOT float) of Rubles. As an example, one item might cost ```51 RUB```, but nothing costs ```16.23 RUB```. To make change I have unbounded number of bills in each of these amount ```1 RUB, 2 RUB, 5 RUB, 10 RUB, and 20 RUB```. Write a program that takes two arguments, the cost of the item and the amount paid by the customer. Print how to make change using the smallest possible number of bills?\n",
        "\n",
        "Example 1:\n",
        "\n",
        "```\n",
        "Input: Item price? 51, How much paied? 74\n",
        "Output: 20, 2, 1\n",
        "Explanation: Because 74-51=23, then the smallest possible bills will be three bills with the values of 20, 2, 1 RUB.\n",
        "```\n",
        "\n",
        "Example 2:\n",
        "\n",
        "```\n",
        "Input: Item price? 51, How much paied? 75\n",
        "Output: 20, 2, 2\n",
        "Explanation: Because 74-51=24, then the smallest possible bills will be three bills with the values of 20, 2, 2 RUB.\n",
        "```"
      ]
    },
    {
      "cell_type": "code",
      "execution_count": null,
      "id": "d1bc91d0",
      "metadata": {
        "id": "d1bc91d0"
      },
      "outputs": [],
      "source": [
        "price=int(input(\"Enter the price: \"))\n",
        "paid=int(input(\"Enter how much you paid: \"))\n",
        "def yourchange(price, paid):\n",
        "  change = paid-price\n",
        "  if change < 0:\n",
        "    return \"Error: not enough money for the purchase.\"\n",
        "  banknotes = [20, 10, 5, 2, 1]\n",
        "  bills = []\n",
        "  for denominations in banknotes:\n",
        "    while change >= denominations:\n",
        "      bills.append(denominations)\n",
        "      change -= denominations\n",
        "  return bills\n",
        "result = yourchange(price, paid)\n",
        "print(result)"
      ]
    }
  ],
  "metadata": {
    "colab": {
      "provenance": []
    },
    "kernelspec": {
      "display_name": "Python 3 (ipykernel)",
      "language": "python",
      "name": "python3"
    },
    "language_info": {
      "codemirror_mode": {
        "name": "ipython",
        "version": 3
      },
      "file_extension": ".py",
      "mimetype": "text/x-python",
      "name": "python",
      "nbconvert_exporter": "python",
      "pygments_lexer": "ipython3",
      "version": "3.10.9"
    }
  },
  "nbformat": 4,
  "nbformat_minor": 5
}